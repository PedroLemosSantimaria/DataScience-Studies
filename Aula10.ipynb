{
 "cells": [
  {
   "cell_type": "code",
   "execution_count": 139,
   "id": "815e6b81-60dd-411c-92c1-ff73f22bfb51",
   "metadata": {},
   "outputs": [],
   "source": [
    "#pacotes necessarios\n",
    "from numpy import mean, median, std\n",
    "import pandas as pd"
   ]
  },
  {
   "cell_type": "code",
   "execution_count": 101,
   "id": "773903b7-9ed7-4313-958a-b9578a9a13e5",
   "metadata": {},
   "outputs": [],
   "source": [
    "lista_notas = [8,7,7,7,7,8,5,2,4,4,10,10,10,10,4,6,7,7,7,8]\n",
    "lista_idades = [10,11,12,9,10,11,10,10,10,10,11,11,10,9,10,10,11,11,10,10]"
   ]
  },
  {
   "cell_type": "code",
   "execution_count": 57,
   "id": "31973880-d620-4216-825b-be4e8c7be643",
   "metadata": {},
   "outputs": [
    {
     "data": {
      "text/plain": [
       "[8, 7, 7, 7, 7, 8, 5, 2, 4, 4, 10, 10, 10, 10, 4, 6, 7, 7, 7, 8]"
      ]
     },
     "execution_count": 57,
     "metadata": {},
     "output_type": "execute_result"
    }
   ],
   "source": [
    "lista_notoas"
   ]
  },
  {
   "cell_type": "code",
   "execution_count": 59,
   "id": "fad0032f-84e8-45cb-a65f-f79cb5688320",
   "metadata": {},
   "outputs": [
    {
     "data": {
      "text/plain": [
       "[10, 11, 12, 9, 10, 11, 10, 10, 10, 10, 11, 11, 10, 9, 10, 10, 11, 11, 10, 10]"
      ]
     },
     "execution_count": 59,
     "metadata": {},
     "output_type": "execute_result"
    }
   ],
   "source": [
    "lista_idades"
   ]
  },
  {
   "cell_type": "code",
   "execution_count": 103,
   "id": "708ce0aa-ef8f-4f75-83b1-e727d67f808e",
   "metadata": {},
   "outputs": [
    {
     "name": "stdout",
     "output_type": "stream",
     "text": [
      "A média das ntoas é: 6.9\n",
      "A mediana das ntoas é: 7.0\n",
      "A média das ntoas é: 10.3\n",
      "A mediana das ntoas é: 10.0\n"
     ]
    }
   ],
   "source": [
    "#calculando a média e a mediana para ntoas\n",
    "print(\"A média das ntoas é:\", mean(lista_notas))\n",
    "print(\"A mediana das ntoas é:\", median(lista_notas))\n",
    "\n",
    "#calculando a média e a mediana para idades\n",
    "print(\"A média das ntoas é:\", mean(lista_idades))\n",
    "print(\"A mediana das ntoas é:\", median(lista_idades))"
   ]
  },
  {
   "cell_type": "code",
   "execution_count": 107,
   "id": "a1c32359-c64c-422f-b13d-1aa70e5230fa",
   "metadata": {},
   "outputs": [],
   "source": [
    "dict = {'notas' : lista_notas, 'idades': lista_idades}"
   ]
  },
  {
   "cell_type": "code",
   "execution_count": 109,
   "id": "22ab2318-83be-469e-b7d4-e6bef335d782",
   "metadata": {},
   "outputs": [],
   "source": [
    "df = pd.DataFrame(dict)"
   ]
  },
  {
   "cell_type": "code",
   "execution_count": 111,
   "id": "3823b1eb-1e87-44c2-bbea-7d25715c3432",
   "metadata": {},
   "outputs": [
    {
     "data": {
      "text/html": [
       "<div>\n",
       "<style scoped>\n",
       "    .dataframe tbody tr th:only-of-type {\n",
       "        vertical-align: middle;\n",
       "    }\n",
       "\n",
       "    .dataframe tbody tr th {\n",
       "        vertical-align: top;\n",
       "    }\n",
       "\n",
       "    .dataframe thead th {\n",
       "        text-align: right;\n",
       "    }\n",
       "</style>\n",
       "<table border=\"1\" class=\"dataframe\">\n",
       "  <thead>\n",
       "    <tr style=\"text-align: right;\">\n",
       "      <th></th>\n",
       "      <th>notas</th>\n",
       "      <th>idades</th>\n",
       "    </tr>\n",
       "  </thead>\n",
       "  <tbody>\n",
       "    <tr>\n",
       "      <th>0</th>\n",
       "      <td>8</td>\n",
       "      <td>10</td>\n",
       "    </tr>\n",
       "    <tr>\n",
       "      <th>1</th>\n",
       "      <td>7</td>\n",
       "      <td>11</td>\n",
       "    </tr>\n",
       "    <tr>\n",
       "      <th>2</th>\n",
       "      <td>7</td>\n",
       "      <td>12</td>\n",
       "    </tr>\n",
       "    <tr>\n",
       "      <th>3</th>\n",
       "      <td>7</td>\n",
       "      <td>9</td>\n",
       "    </tr>\n",
       "    <tr>\n",
       "      <th>4</th>\n",
       "      <td>7</td>\n",
       "      <td>10</td>\n",
       "    </tr>\n",
       "    <tr>\n",
       "      <th>5</th>\n",
       "      <td>8</td>\n",
       "      <td>11</td>\n",
       "    </tr>\n",
       "    <tr>\n",
       "      <th>6</th>\n",
       "      <td>5</td>\n",
       "      <td>10</td>\n",
       "    </tr>\n",
       "    <tr>\n",
       "      <th>7</th>\n",
       "      <td>2</td>\n",
       "      <td>10</td>\n",
       "    </tr>\n",
       "    <tr>\n",
       "      <th>8</th>\n",
       "      <td>4</td>\n",
       "      <td>10</td>\n",
       "    </tr>\n",
       "    <tr>\n",
       "      <th>9</th>\n",
       "      <td>4</td>\n",
       "      <td>10</td>\n",
       "    </tr>\n",
       "    <tr>\n",
       "      <th>10</th>\n",
       "      <td>10</td>\n",
       "      <td>11</td>\n",
       "    </tr>\n",
       "    <tr>\n",
       "      <th>11</th>\n",
       "      <td>10</td>\n",
       "      <td>11</td>\n",
       "    </tr>\n",
       "    <tr>\n",
       "      <th>12</th>\n",
       "      <td>10</td>\n",
       "      <td>10</td>\n",
       "    </tr>\n",
       "    <tr>\n",
       "      <th>13</th>\n",
       "      <td>10</td>\n",
       "      <td>9</td>\n",
       "    </tr>\n",
       "    <tr>\n",
       "      <th>14</th>\n",
       "      <td>4</td>\n",
       "      <td>10</td>\n",
       "    </tr>\n",
       "    <tr>\n",
       "      <th>15</th>\n",
       "      <td>6</td>\n",
       "      <td>10</td>\n",
       "    </tr>\n",
       "    <tr>\n",
       "      <th>16</th>\n",
       "      <td>7</td>\n",
       "      <td>11</td>\n",
       "    </tr>\n",
       "    <tr>\n",
       "      <th>17</th>\n",
       "      <td>7</td>\n",
       "      <td>11</td>\n",
       "    </tr>\n",
       "    <tr>\n",
       "      <th>18</th>\n",
       "      <td>7</td>\n",
       "      <td>10</td>\n",
       "    </tr>\n",
       "    <tr>\n",
       "      <th>19</th>\n",
       "      <td>8</td>\n",
       "      <td>10</td>\n",
       "    </tr>\n",
       "  </tbody>\n",
       "</table>\n",
       "</div>"
      ],
      "text/plain": [
       "    notas  idades\n",
       "0       8      10\n",
       "1       7      11\n",
       "2       7      12\n",
       "3       7       9\n",
       "4       7      10\n",
       "5       8      11\n",
       "6       5      10\n",
       "7       2      10\n",
       "8       4      10\n",
       "9       4      10\n",
       "10     10      11\n",
       "11     10      11\n",
       "12     10      10\n",
       "13     10       9\n",
       "14      4      10\n",
       "15      6      10\n",
       "16      7      11\n",
       "17      7      11\n",
       "18      7      10\n",
       "19      8      10"
      ]
     },
     "execution_count": 111,
     "metadata": {},
     "output_type": "execute_result"
    }
   ],
   "source": [
    "df"
   ]
  },
  {
   "cell_type": "code",
   "execution_count": 115,
   "id": "36a1b300-bc6f-4445-9ff6-07700525ec94",
   "metadata": {},
   "outputs": [
    {
     "data": {
      "text/plain": [
       "5.3"
      ]
     },
     "execution_count": 115,
     "metadata": {},
     "output_type": "execute_result"
    }
   ],
   "source": [
    "#Medias e Medianas - notas e idade\n",
    "#50% inferior\n",
    "#notas\n",
    "mean(df.notas.sort_values(ascending=True)[0:10])"
   ]
  },
  {
   "cell_type": "code",
   "execution_count": 121,
   "id": "92e81f4b-6c4c-4dd2-b46a-937dd70fc5a1",
   "metadata": {},
   "outputs": [
    {
     "data": {
      "text/plain": [
       "8.5"
      ]
     },
     "execution_count": 121,
     "metadata": {},
     "output_type": "execute_result"
    }
   ],
   "source": [
    "#50% superiores\n",
    "#notas\n",
    "mean(df.notas.sort_values(ascending=True)[10:20])"
   ]
  },
  {
   "cell_type": "code",
   "execution_count": 123,
   "id": "926a7697-093b-41b6-9ec4-32988b1e80ba",
   "metadata": {},
   "outputs": [
    {
     "data": {
      "text/plain": [
       "9.8"
      ]
     },
     "execution_count": 123,
     "metadata": {},
     "output_type": "execute_result"
    }
   ],
   "source": [
    "#50% inferior\n",
    "#idades\n",
    "mean(df.idades.sort_values(ascending=True)[0:10])"
   ]
  },
  {
   "cell_type": "code",
   "execution_count": 125,
   "id": "8e7e3c51-3387-46c7-ad33-84e3ac49c527",
   "metadata": {},
   "outputs": [
    {
     "data": {
      "text/plain": [
       "10.8"
      ]
     },
     "execution_count": 125,
     "metadata": {},
     "output_type": "execute_result"
    }
   ],
   "source": [
    "#50% superiores\n",
    "#idades\n",
    "mean(df.idades.sort_values(ascending=True)[10:20])"
   ]
  },
  {
   "cell_type": "code",
   "execution_count": 127,
   "id": "72e26690-1d10-4c2c-8e95-0dc651909be6",
   "metadata": {},
   "outputs": [
    {
     "data": {
      "text/html": [
       "<div>\n",
       "<style scoped>\n",
       "    .dataframe tbody tr th:only-of-type {\n",
       "        vertical-align: middle;\n",
       "    }\n",
       "\n",
       "    .dataframe tbody tr th {\n",
       "        vertical-align: top;\n",
       "    }\n",
       "\n",
       "    .dataframe thead th {\n",
       "        text-align: right;\n",
       "    }\n",
       "</style>\n",
       "<table border=\"1\" class=\"dataframe\">\n",
       "  <thead>\n",
       "    <tr style=\"text-align: right;\">\n",
       "      <th></th>\n",
       "      <th>notas</th>\n",
       "      <th>idades</th>\n",
       "    </tr>\n",
       "  </thead>\n",
       "  <tbody>\n",
       "    <tr>\n",
       "      <th>3</th>\n",
       "      <td>7</td>\n",
       "      <td>9</td>\n",
       "    </tr>\n",
       "    <tr>\n",
       "      <th>13</th>\n",
       "      <td>10</td>\n",
       "      <td>9</td>\n",
       "    </tr>\n",
       "    <tr>\n",
       "      <th>0</th>\n",
       "      <td>8</td>\n",
       "      <td>10</td>\n",
       "    </tr>\n",
       "    <tr>\n",
       "      <th>15</th>\n",
       "      <td>6</td>\n",
       "      <td>10</td>\n",
       "    </tr>\n",
       "    <tr>\n",
       "      <th>14</th>\n",
       "      <td>4</td>\n",
       "      <td>10</td>\n",
       "    </tr>\n",
       "    <tr>\n",
       "      <th>12</th>\n",
       "      <td>10</td>\n",
       "      <td>10</td>\n",
       "    </tr>\n",
       "    <tr>\n",
       "      <th>18</th>\n",
       "      <td>7</td>\n",
       "      <td>10</td>\n",
       "    </tr>\n",
       "    <tr>\n",
       "      <th>8</th>\n",
       "      <td>4</td>\n",
       "      <td>10</td>\n",
       "    </tr>\n",
       "    <tr>\n",
       "      <th>9</th>\n",
       "      <td>4</td>\n",
       "      <td>10</td>\n",
       "    </tr>\n",
       "    <tr>\n",
       "      <th>6</th>\n",
       "      <td>5</td>\n",
       "      <td>10</td>\n",
       "    </tr>\n",
       "    <tr>\n",
       "      <th>4</th>\n",
       "      <td>7</td>\n",
       "      <td>10</td>\n",
       "    </tr>\n",
       "    <tr>\n",
       "      <th>7</th>\n",
       "      <td>2</td>\n",
       "      <td>10</td>\n",
       "    </tr>\n",
       "    <tr>\n",
       "      <th>19</th>\n",
       "      <td>8</td>\n",
       "      <td>10</td>\n",
       "    </tr>\n",
       "    <tr>\n",
       "      <th>10</th>\n",
       "      <td>10</td>\n",
       "      <td>11</td>\n",
       "    </tr>\n",
       "    <tr>\n",
       "      <th>11</th>\n",
       "      <td>10</td>\n",
       "      <td>11</td>\n",
       "    </tr>\n",
       "    <tr>\n",
       "      <th>5</th>\n",
       "      <td>8</td>\n",
       "      <td>11</td>\n",
       "    </tr>\n",
       "    <tr>\n",
       "      <th>1</th>\n",
       "      <td>7</td>\n",
       "      <td>11</td>\n",
       "    </tr>\n",
       "    <tr>\n",
       "      <th>16</th>\n",
       "      <td>7</td>\n",
       "      <td>11</td>\n",
       "    </tr>\n",
       "    <tr>\n",
       "      <th>17</th>\n",
       "      <td>7</td>\n",
       "      <td>11</td>\n",
       "    </tr>\n",
       "    <tr>\n",
       "      <th>2</th>\n",
       "      <td>7</td>\n",
       "      <td>12</td>\n",
       "    </tr>\n",
       "  </tbody>\n",
       "</table>\n",
       "</div>"
      ],
      "text/plain": [
       "    notas  idades\n",
       "3       7       9\n",
       "13     10       9\n",
       "0       8      10\n",
       "15      6      10\n",
       "14      4      10\n",
       "12     10      10\n",
       "18      7      10\n",
       "8       4      10\n",
       "9       4      10\n",
       "6       5      10\n",
       "4       7      10\n",
       "7       2      10\n",
       "19      8      10\n",
       "10     10      11\n",
       "11     10      11\n",
       "5       8      11\n",
       "1       7      11\n",
       "16      7      11\n",
       "17      7      11\n",
       "2       7      12"
      ]
     },
     "execution_count": 127,
     "metadata": {},
     "output_type": "execute_result"
    }
   ],
   "source": [
    "df_ordenado_idades = df.sort_values(by=['idades'])\n",
    "df_ordenado_idades"
   ]
  },
  {
   "cell_type": "code",
   "execution_count": 133,
   "id": "55d44746-fa5a-4843-8f8b-fedcab8ff123",
   "metadata": {},
   "outputs": [
    {
     "data": {
      "text/plain": [
       "6.5"
      ]
     },
     "execution_count": 133,
     "metadata": {},
     "output_type": "execute_result"
    }
   ],
   "source": [
    "#média das notas para 50% menores idades\n",
    "df_recorte_menores_idades = df_ordenado_idades[0:10]\n",
    "df_recorte_menores_idades\n",
    "mean(df_recorte_menores_idades.notas)"
   ]
  },
  {
   "cell_type": "code",
   "execution_count": 137,
   "id": "54406aaa-3277-4d35-8bb3-596251ff9d13",
   "metadata": {},
   "outputs": [
    {
     "data": {
      "text/plain": [
       "7.3"
      ]
     },
     "execution_count": 137,
     "metadata": {},
     "output_type": "execute_result"
    }
   ],
   "source": [
    "#média das notas para 50% maiores idades\n",
    "df_recorte_maiores_idades = df_ordenado_idades[10:20]\n",
    "df_recorte_maiores_idades\n",
    "mean(df_recorte_maiores_idades.notas)"
   ]
  },
  {
   "cell_type": "code",
   "execution_count": 151,
   "id": "d6f4bb9f-2b67-421d-bd21-34e07580e6fe",
   "metadata": {},
   "outputs": [
    {
     "data": {
      "text/plain": [
       "31.71894004092651"
      ]
     },
     "execution_count": 151,
     "metadata": {},
     "output_type": "execute_result"
    }
   ],
   "source": [
    "#coeficiente de variaçao notas\n",
    "cv_notas = std(lista_notas) / mean(lista_notas)\n",
    "cv_notas*100"
   ]
  },
  {
   "cell_type": "code",
   "execution_count": 153,
   "id": "11681579-be5a-4b2d-b5c9-850da86aabbe",
   "metadata": {},
   "outputs": [
    {
     "data": {
      "text/plain": [
       "6.933425658779465"
      ]
     },
     "execution_count": 153,
     "metadata": {},
     "output_type": "execute_result"
    }
   ],
   "source": [
    "#coeficiente de variaçao idades\n",
    "cv_idades = std(lista_idades) / mean(lista_idades)\n",
    "cv_idades*100"
   ]
  },
  {
   "cell_type": "code",
   "execution_count": 155,
   "id": "358d1484-43d3-4ca5-bd09-b8cec2fe7ca3",
   "metadata": {},
   "outputs": [],
   "source": [
    "#correlação\n",
    "from scipy import stats"
   ]
  },
  {
   "cell_type": "code",
   "execution_count": 159,
   "id": "2546dba9-e65f-4002-a543-3c035f954921",
   "metadata": {},
   "outputs": [
    {
     "data": {
      "text/plain": [
       "PearsonRResult(statistic=0.14715498922948964, pvalue=0.5358452517595163)"
      ]
     },
     "execution_count": 159,
     "metadata": {},
     "output_type": "execute_result"
    }
   ],
   "source": [
    "stats.pearsonr(df.notas,df.idades)"
   ]
  }
 ],
 "metadata": {
  "kernelspec": {
   "display_name": "Python [conda env:base] *",
   "language": "python",
   "name": "conda-base-py"
  },
  "language_info": {
   "codemirror_mode": {
    "name": "ipython",
    "version": 3
   },
   "file_extension": ".py",
   "mimetype": "text/x-python",
   "name": "python",
   "nbconvert_exporter": "python",
   "pygments_lexer": "ipython3",
   "version": "3.12.7"
  }
 },
 "nbformat": 4,
 "nbformat_minor": 5
}
